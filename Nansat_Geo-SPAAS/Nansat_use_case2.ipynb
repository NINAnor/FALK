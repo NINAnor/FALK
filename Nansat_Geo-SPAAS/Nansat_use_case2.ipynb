{
 "cells": [
  {
   "cell_type": "markdown",
   "metadata": {},
   "source": [
    "# Colocate different data with Nansat"
   ]
  },
  {
   "cell_type": "code",
   "execution_count": null,
   "metadata": {},
   "outputs": [],
   "source": [
    "# download sample files\n",
    "!wget -P data -nc ftp://ftp.nersc.no/nansat/test_data/obpg_l2/A2015121113500.L2_LAC.NorthNorwegianSeas.hdf\n",
    "!wget -P data -nc ftp://ftp.nersc.no/nansat/test_data/obpg_l2/A2015122122000.L2_LAC.NorthNorwegianSeas.hdf"
   ]
  },
  {
   "cell_type": "code",
   "execution_count": null,
   "metadata": {},
   "outputs": [],
   "source": [
    "import numpy as np\n",
    "import matplotlib.pyplot as plt\n",
    "from IPython.display import Image   \n",
    "%matplotlib inline\n",
    "\n",
    "from nansat import *"
   ]
  },
  {
   "cell_type": "markdown",
   "metadata": {},
   "source": [
    "### Open MODIS/Aqua files with chlorophyll in the North Sea and fetch data"
   ]
  },
  {
   "cell_type": "code",
   "execution_count": null,
   "metadata": {},
   "outputs": [],
   "source": [
    "n1 = Nansat('data/A2015121113500.L2_LAC.NorthNorwegianSeas.hdf')\n",
    "chlor_a1 = n1['chlor_a']\n",
    "\n",
    "n2 = Nansat('data/A2015122122000.L2_LAC.NorthNorwegianSeas.hdf')\n",
    "chlor_a2 = n2['chlor_a']"
   ]
  },
  {
   "cell_type": "markdown",
   "metadata": {},
   "source": [
    "### Plot chlorophyll-a maps in swath projection"
   ]
  },
  {
   "cell_type": "code",
   "execution_count": null,
   "metadata": {},
   "outputs": [],
   "source": [
    "plt.figure(figsize=(5,5))\n",
    "plt.subplot(121)\n",
    "plt.imshow(chlor_a1, vmin=0, vmax=3)\n",
    "plt.subplot(122)\n",
    "plt.imshow(chlor_a2, vmin=0, vmax=3)"
   ]
  },
  {
   "cell_type": "markdown",
   "metadata": {},
   "source": [
    "### Colocate data. Reproject both images onto the same Domain."
   ]
  },
  {
   "cell_type": "code",
   "execution_count": null,
   "metadata": {},
   "outputs": [],
   "source": [
    "# define domain in longlat projection\n",
    "d = Domain('+proj=stere +lat_0=58 +lon_0=5 +no_defs',\n",
    "           '-te -300000 -300000 300000 300000 -tr 3000 3000')\n",
    "\n",
    "# reproject first image and get matrix with reprojected chlorophyll\n",
    "n1.reproject(d)\n",
    "chlor_a1 = n1['chlor_a']\n",
    "\n",
    "# reproject second image and get matrix with reprojected chlorophyll\n",
    "n2.reproject(d)\n",
    "chlor_a2 = n2['chlor_a']\n",
    "\n",
    "# get mask of land and set values of land pixels to NAN (not-a-number), be sure you have the mask fiel\n",
    "mask1 = n1.watermask('/vagrant/shared/MOD44W/')[1]\n",
    "chlor_a1[mask1 == 2] = np.nan\n",
    "chlor_a2[mask1 == 2] = np.nan\n",
    "\n",
    "# prepare landmask for plotting: land pixels=1, water pixels=NaN\n",
    "landmask = 1 - mask1.astype(float)\n",
    "landmask[landmask == 0] = np.nan"
   ]
  },
  {
   "cell_type": "code",
   "execution_count": null,
   "metadata": {},
   "outputs": [],
   "source": [
    "plt.figure(figsize=(10,10))\n",
    "\n",
    "plt.subplot(121)\n",
    "plt.imshow(chlor_a1, vmin=0, vmax=5)\n",
    "plt.imshow(landmask, cmap='gray')\n",
    "\n",
    "plt.subplot(122)\n",
    "plt.imshow(chlor_a2, vmin=0, vmax=5)\n",
    "plt.imshow(landmask, cmap='gray')\n",
    "\n",
    "plt.show()"
   ]
  },
  {
   "cell_type": "code",
   "execution_count": null,
   "metadata": {},
   "outputs": [],
   "source": [
    "# replace negative values (clouds) by NAN\n",
    "chlor_a1[chlor_a1 < 0] = np.nan\n",
    "chlor_a2[chlor_a2 < 0] = np.nan\n",
    "\n",
    "# find difference\n",
    "chlor_diff = chlor_a2 - chlor_a1\n",
    "\n",
    "# plot\n",
    "plt.figure(figsize=(5,5))\n",
    "plt.imshow(chlor_diff, vmin=-0.1, vmax=2);plt.colorbar()\n",
    "plt.imshow(landmask, cmap='gray')\n",
    "plt.show()"
   ]
  },
  {
   "cell_type": "code",
   "execution_count": null,
   "metadata": {},
   "outputs": [],
   "source": [
    "# get transect - vector of data from 2D matrix from known locations\n",
    "points = [[200, 75], [150, 150]]\n",
    "t1 = n1.get_transect(points, ['chlor_a'], lonlat=False)\n",
    "chl1 = t1['chlor_a']\n",
    "lon1 = t1['lon']\n",
    "lat1 = t1['lat']\n",
    "\n",
    "t2 = n2.get_transect(points, ['chlor_a'], lonlat=False)\n",
    "chl2 = t2['chlor_a']\n",
    "\n",
    "\n",
    "# replace negative values with NAN\n",
    "chl1 = np.array(chl1)\n",
    "chl2 = np.array(chl2)\n",
    "chl1[(chl1 < 0) + (chl1 > 5)] = np.nan\n",
    "chl2[(chl2 < 0) + (chl2 > 5)] = np.nan\n",
    "print (n1.time_coverage_start)\n",
    "\n",
    "# plot\n",
    "plt.plot(lon1, chl1, '-', label=n1.time_coverage_start)\n",
    "plt.plot(lon1, chl2, '-', label=n2.time_coverage_start)\n",
    "plt.legend()\n",
    "plt.xlabel('longitude')\n",
    "plt.ylabel('chlorphyll-a')\n",
    "plt.show()"
   ]
  }
 ],
 "metadata": {
  "kernelspec": {
   "display_name": "Python 3",
   "language": "python",
   "name": "python3"
  },
  "language_info": {
   "codemirror_mode": {
    "name": "ipython",
    "version": 3
   },
   "file_extension": ".py",
   "mimetype": "text/x-python",
   "name": "python",
   "nbconvert_exporter": "python",
   "pygments_lexer": "ipython3",
   "version": "3.7.3"
  }
 },
 "nbformat": 4,
 "nbformat_minor": 2
}
